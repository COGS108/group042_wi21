{
 "cells": [
  {
   "cell_type": "markdown",
   "metadata": {},
   "source": [
    "# COGS 108 - Final Project Proposal"
   ]
  },
  {
   "cell_type": "markdown",
   "metadata": {},
   "source": [
    "# Names\n",
    "\n",
    "- Anna Wang\n",
    "- Kristy Liou\n",
    "- Chloe Salem\n",
    "- Zeven Vidmar Barker\n",
    "- Maxtierney Arias"
   ]
  },
  {
   "cell_type": "markdown",
   "metadata": {},
   "source": [
    "# Research Question"
   ]
  },
  {
   "cell_type": "markdown",
   "metadata": {},
   "source": [
    "Can we predict the happiness of the citizens of a region based on the attitude of the broadcast news reports regarding that region?"
   ]
  },
  {
   "cell_type": "markdown",
   "metadata": {},
   "source": [
    "## Background and Prior Work"
   ]
  },
  {
   "cell_type": "markdown",
   "metadata": {},
   "source": [
    "Our team chose the topic of News to research due to the large impact it has on it’s audience and society. In 2016 to 2018, it is reported that more than 5.5 million American citizens tune in for the evening news channels such as ABC, CBS, and NBC. Many people in society look at the News for reliable and relevant information about current events. The News also has the effect to change individuals’ minds and behaviors due to their tone and rhetoric. It is one of the main sources people go to due to their authority and assumed credibility about current topics. In recent years, the news has been spread out in various platforms throughout the internet due to the increased usage of online media, therefore giving people faster communication on what is currently happening. Online media has also negatively impacted the spread of news due to the rise of fake articles. Because of social media, citizens have easy access in expressing their opinion and feelings about current events. We want to research more about how the attitude of televised news has an effect or even reflect how citizens of a certain region feel.
"Due to the current political climates, there have been conversations, specifically about American’s happiness/unhappiness within their society. We plan on using the World’s Happiness Report, which is an annual report that globally surveys people and ranks 156 countries on how happy their citizens are perceived to be, to use as a measurement for the happiness of a country. The World’s Happiness report takes in consideration multiple aspects of a country, including GDP per capita, social support, life expectancy, freedom to make life choices, generosity, perceptions of corruption, and dystopia. Since the news has a reputation of covering more negative news than positive, we are interested in further researching on the proportion of negative news with positive, and how that reflects back onto the country’s happiness level. \n",Prior to this research, the BBC has done it’s own research on how news can mentally and physically shape those individuals watching. The BBC reports that due to how certain news outlets cover a particular topic, it has the power to change people’s perspective on certain topics and groups of people. The BBC states that the news can increase individual’s stress levels which can further lead to physical health problems in the future due their unproportional coverage of positive and negative news. https://www.bbc.com/future/article/20200512-how-the-news-changes-the-way-we-think-and-behave
"There have also been many studies that indicate that excessive intake of the news has a negative impact on individuals’ mental health. Natascha de Hoog has published a study that primarily focuses on individuals watching the news daily, rather than in a specific time of terror. The study results stated that the negative news perception related more with a negative and less positive effect.
"https://bpspsychub.onlinelibrary.wiley.com/doi/full/10.1111/bjop.12389
"In contrast to de Hoog’s study, Karen Elizabeth McIntye conducted an experiment focused on the effects of reading more positive news. McIntye’s study reported that readers who read positive stories had higher levels of positive affect than reading hardnews stories. Although McIntye reported this, it does not translate into a larger sense of personal well-being.  
"https://www.tandfonline.com/doi/full/10.1080/1041794X.2016.1171892?casa_token=1Oj1Y5YFQsAAAAAA%3A0doLKEbOhGHx32vNTnjV_4URWb60DKYdTtUgQ1kVXhwLjQ1lsB5x3Pf6vWmoTgZyn7Yq_k7UwNk

    "\n",
    "References (include links):\n",
    "- 1)Reference: (1) https://www.journalism.org/fact-sheet/network-news/\n",
    "- 2)"
   ]
  },
  {
   "cell_type": "markdown",
   "metadata": {},
   "source": [
    "# Hypothesis\n"
   ]
  },
  {
   "cell_type": "markdown",
   "metadata": {},
   "source": [
    "We hypothesize firstly that the attributes of broadcast news language concerning a region will reveal a pattern of differing attitudes towards different regions. Secondly, we believe that there will be a positive correlation between the attitude with which the news media discusses a region and the happiness of the citizens in it. Lastly, we hypothesize that this attitude difference can be used to predict the happiness of citizens who reside in a region."
   ]
  },
  {
   "cell_type": "markdown",
   "metadata": {},
   "source": [
    "# Data"
   ]
  },
  {
   "cell_type": "markdown",
   "metadata": {},
   "source": [
    "The ideal dataset would consist of a country’s happiness factor combined with its various demographic variables likely to affect this factor (such as population density, total population, etc.) Additionally, we would want some type of data that can adequately describe the content and tone of the news, such as closed captioning samples or headlines. Ideally, we would like to collect this data from the most popular news stations in each region for several regions to best reflect the largest population of broadcast viewers for each. To more accurately determine broadcast media’s effects on a region, we may also seek data on news consumption for the regions we target in our research.
"We have already done research on publicly available datasets that could potentially provide this information, including World Happiness Report Data and broadcast news closed-captioning samples. 
"
   ]
  },
  {
   "cell_type": "markdown",
   "metadata": {},
   "source": [
    "# Ethics & Privacy"
   ]
  },
  {
   "cell_type": "markdown",
   "metadata": {},
   "source": [
    "Since we will likely be looking at linguistic attributes of news reports that are in English, our findings will only be able to be generalized to English-speaking countries and regions. 
"There will be biases inherent in data that measures and reports happiness because it is an extremely subjective quality to measure. People may not always report their happiness accurately. As such, our analysis may not be able to use entire accounts of people's emotions and feelings during our time of research.
"In order to detect these specific issues regarding personal emotion, it is important to consider how to approach each individual response. Before communicating our analysis we plan to first find consensual subjects and data, allowing us to properly analyze the correlation between people's feelings and the news. During our time of investigation and planning, we will also continue to abide by our data and subjects' consent, maintaining a full agreement to keep privacy and choice up to the individual limiting any concerns through to the end of our analysis. 
"Besides personal emotion and feelings, our topic doesn't necessarily offer any theatenting problems towards people's data privacy and equitable impact.
"In order to properly address these issues, we plan to handle recorded information and data with care, continuing to follow and resolve any individual concerns as well as keeping potential threats to personal privacy and equitable data to a minimum.  Specifically, we plan to be transparent in our analyses and how we utilize our recordings, stopping any feeling of deception when dealing with news reports and their influence on people."
   ]
  },
  {
   "cell_type": "markdown",
   "metadata": {},
   "source": [
    "# Team Expectations "
   ]
  },
  {
   "cell_type": "markdown",
   "metadata": {},
   "source": [
    "* *Showing up to team meetings on time\n",
    "* *Completing all work that is assigned to you and reaching out to team members if anything is unclear\n",
    "* *Communicating any issues or uncertainties in the group chat so we can all collaborate and help\n",
   ]
  },
  {
   "cell_type": "markdown",
   "metadata": {},
   "source": [
    "# Project Timeline Proposal"
   ]
  },
  {
   "cell_type": "markdown",
   "metadata": {},
   "source": [
    "| Meeting Date  | Meeting Time| Completed Before Meeting  | Discuss at Meeting |\n",
    "|---|---|---|---|\n",
    "| 1/20  |  7 PM | Read & Think about COGS 108 expectations; brainstorm topics/questions  | Determine best form of communication; Discuss and decide on final project topic; discuss hypothesis; begin background research | \n",
    "| 1/26  |  7 PM |  Do background research on topic | Discuss ideal dataset(s) and ethics; draft project proposal | \n",
    "| 2/1  | 7 PM  | Edit, finalize, and submit proposal; Search for datasets  | Discuss Wrangling and possible analytical approaches; Assign group members to lead each specific part   |\n",
    "| 2/14  | 7 PM  | Import & Wrangle Data; EDA | Review/Edit wrangling/EDA; Discuss Analysis Plan   |\n",
    "| 2/23  | 7 PM  | Finalize wrangling/EDA; Begin Analysis| Discuss/edit Analysis; Complete project check-in |\n",
    "| 3/13  | 7 PM  | Complete analysis; Draft results/conclusion/discussion| Discuss/edit full project |\n",
    "| 3/19  | Before 11:59 PM  | NA | Turn in Final Project & Group Project Surveys |"
   ]
  }
 ],
 "metadata": {
  "kernelspec": {
   "display_name": "Python 3",
   "language": "python",
   "name": "python3"
  },
  "language_info": {
   "codemirror_mode": {
    "name": "ipython",
    "version": 3
   },
   "file_extension": ".py",
   "mimetype": "text/x-python",
   "name": "python",
   "nbconvert_exporter": "python",
   "pygments_lexer": "ipython3",
   "version": "3.7.9"
  }
 },
 "nbformat": 4,
 "nbformat_minor": 2
}
